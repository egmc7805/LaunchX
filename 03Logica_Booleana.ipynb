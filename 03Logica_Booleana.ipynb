{
 "cells": [
  {
   "cell_type": "markdown",
   "metadata": {},
   "source": [
    "Programa que genere una advertencia en caso de que un asteroide se acerque a más de 25km/s de velocidad"
   ]
  },
  {
   "cell_type": "code",
   "execution_count": 11,
   "metadata": {},
   "outputs": [],
   "source": [
    "vasteroide = input(\"Escriba la velocidad actual del asteroide\")\n",
    "\n",
    "input()\n",
    "if int(vasteroide) >= 25:\n",
    "    print(\"Atencion un asteroide se acerca demasiado a la tierra\")"
   ]
  },
  {
   "cell_type": "markdown",
   "metadata": {},
   "source": [
    "Programa que genere una advertencia en caso de que un asteroide se acerque a más de 25km/s de velocidad"
   ]
  },
  {
   "cell_type": "code",
   "execution_count": 2,
   "metadata": {},
   "outputs": [
    {
     "name": "stdout",
     "output_type": "stream",
     "text": [
      "cuidado con el asteroide\n"
     ]
    }
   ],
   "source": [
    "asteroide = 21 \n",
    "if asteroide > 20:\n",
    "    print(\"cuidado con el asteroide\")\n",
    "elif asteroide == 20:\n",
    "    print(\"cuidado con el asteroide\") \n",
    "else:\n",
    "    print(\"Siga con su rutina normal\")\n"
   ]
  },
  {
   "cell_type": "markdown",
   "metadata": {},
   "source": [
    "Programa que determina si la velocidad y el tamano de un asteroide son suficientes para causar peligro y alerta a la poblacion"
   ]
  },
  {
   "cell_type": "code",
   "execution_count": null,
   "metadata": {},
   "outputs": [],
   "source": [
    "vel_asteroide = 25\n",
    "tamano_asteroide = 30\n",
    "\n",
    "if vel_asteroide > 25 and tamano_asteroide > 25:\n",
    "    print(\"salven sus vidas\")\n",
    "elif vel_asteroide > 25:\n",
    "    print(\"salven sus vidas\")\n",
    "elif tamano_asteroide > 25:\n",
    "    print(\"sigan con su vida normal\")\n",
    "else:\n",
    "    print(\"sigan con su vida normal\")"
   ]
  }
 ],
 "metadata": {
  "interpreter": {
   "hash": "35f33bc96d1e7ae913d61e9548a7b1050abc28d4ff0d71a43e77fceeedcc5a4e"
  },
  "kernelspec": {
   "display_name": "Python 3.10.2 64-bit (windows store)",
   "language": "python",
   "name": "python3"
  },
  "language_info": {
   "codemirror_mode": {
    "name": "ipython",
    "version": 3
   },
   "file_extension": ".py",
   "mimetype": "text/x-python",
   "name": "python",
   "nbconvert_exporter": "python",
   "pygments_lexer": "ipython3",
   "version": "3.10.2"
  },
  "orig_nbformat": 4
 },
 "nbformat": 4,
 "nbformat_minor": 2
}
