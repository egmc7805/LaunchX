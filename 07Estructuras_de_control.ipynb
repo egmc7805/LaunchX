{
 "cells": [
  {
   "cell_type": "markdown",
   "metadata": {},
   "source": [
    "Creacion de una lista de elementos con ciclo while y listado de los planetas"
   ]
  },
  {
   "cell_type": "code",
   "execution_count": 3,
   "metadata": {},
   "outputs": [
    {
     "name": "stdout",
     "output_type": "stream",
     "text": [
      "jupiter\n",
      "tierra\n",
      "mercurio\n",
      "fin\n"
     ]
    }
   ],
   "source": [
    "planeta_nuevo = ''\n",
    "planetas = []\n",
    "\n",
    "while planeta_nuevo != 'Fin':\n",
    "    if planeta_nuevo:\n",
    "        planetas.append(planeta_nuevo)\n",
    "    planeta_nuevo = input ('Escribe el nombre de un planeta, cuando termines, escribe Fin')\n",
    "\n",
    "\n",
    "for planeta in planetas:\n",
    "    print(planeta)"
   ]
  }
 ],
 "metadata": {
  "interpreter": {
   "hash": "35f33bc96d1e7ae913d61e9548a7b1050abc28d4ff0d71a43e77fceeedcc5a4e"
  },
  "kernelspec": {
   "display_name": "Python 3.10.2 64-bit (windows store)",
   "language": "python",
   "name": "python3"
  },
  "language_info": {
   "codemirror_mode": {
    "name": "ipython",
    "version": 3
   },
   "file_extension": ".py",
   "mimetype": "text/x-python",
   "name": "python",
   "nbconvert_exporter": "python",
   "pygments_lexer": "ipython3",
   "version": "3.10.2"
  },
  "orig_nbformat": 4
 },
 "nbformat": 4,
 "nbformat_minor": 2
}
